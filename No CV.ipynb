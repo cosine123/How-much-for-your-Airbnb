{
 "cells": [
  {
   "cell_type": "code",
   "execution_count": 1,
   "metadata": {},
   "outputs": [],
   "source": [
    "import numpy as np\n",
    "import pandas as pd"
   ]
  },
  {
   "cell_type": "code",
   "execution_count": 2,
   "metadata": {},
   "outputs": [],
   "source": [
    "df = pd.read_csv('cleaned_data.csv')"
   ]
  },
  {
   "cell_type": "code",
   "execution_count": 4,
   "metadata": {},
   "outputs": [],
   "source": [
    "X = df.drop('price',axis=1)\n",
    "y = df['price']"
   ]
  },
  {
   "cell_type": "code",
   "execution_count": 5,
   "metadata": {},
   "outputs": [],
   "source": [
    "from sklearn.model_selection import train_test_split\n",
    "X_train, X_test, y_train, y_test = train_test_split(X, y, test_size=0.2, random_state=5)"
   ]
  },
  {
   "cell_type": "code",
   "execution_count": 6,
   "metadata": {},
   "outputs": [],
   "source": [
    "from math import sqrt\n",
    "def calculate_error(y_train,y_train_pred,y_test,y_test_pred):\n",
    "    train_rss = 0\n",
    "    y_train = np.array(y_train)\n",
    "    for i in range(len(y_train)):\n",
    "        train_rss += (y_train[i] - y_train_pred[i])**2\n",
    "    train_mse = train_rss/len(y_train)\n",
    "    train_rmse = sqrt(train_mse)\n",
    "\n",
    "    test_rss = 0\n",
    "    y_test = np.array(y_test)\n",
    "    for i in range(len(y_test)):\n",
    "        test_rss += (y_test[i] - y_test_pred[i])**2\n",
    "    test_mse = test_rss/len(y_test)\n",
    "    test_rmse = sqrt(test_mse)\n",
    "    \n",
    "    return train_rmse, test_rmse"
   ]
  },
  {
   "cell_type": "code",
   "execution_count": 7,
   "metadata": {},
   "outputs": [],
   "source": [
    "def train_test_model(clf, X_train, y_train, X_test):\n",
    "    # Fit a model by providing X and y from training set\n",
    "    clf.fit(X_train, y_train)\n",
    "\n",
    "    # Make prediction on the training data\n",
    "    y_train_pred = clf.predict(X_train)\n",
    "#     p_train_pred = clf.predict_proba(X_train)[:,1]\n",
    "\n",
    "    # Make predictions on test data\n",
    "    y_test_pred = clf.predict(X_test)\n",
    "#     p_test_pred = clf.predict_proba(X_test)[:,1]\n",
    "    return y_train_pred,y_test_pred\n",
    "#     sum((y_test_pred-y_test)^2)\n",
    "    # print model results\n",
    "#     get_performance_metrics(y_train, p_train_pred, y_test, p_test_pred)\n",
    "#     plot_roc_curve(y_train, p_train_pred, y_test, p_test_pred)"
   ]
  },
  {
   "cell_type": "markdown",
   "metadata": {},
   "source": [
    "Try various methods:"
   ]
  },
  {
   "cell_type": "code",
   "execution_count": 8,
   "metadata": {},
   "outputs": [
    {
     "name": "stdout",
     "output_type": "stream",
     "text": [
      "Train error:  45.42808467526376\n",
      "Test error:  56.94187366546724\n"
     ]
    }
   ],
   "source": [
    "from sklearn.ensemble import GradientBoostingRegressor\n",
    "\n",
    "# Choose some parameter combinations to try\n",
    "\n",
    "parameters = {'n_estimators': 300,\n",
    "              'max_features': 'sqrt',\n",
    "#               'criterion': 'gini',\n",
    "              'learning_rate':0.008,\n",
    "              'max_depth': 10,\n",
    "              'min_samples_split': 5,\n",
    "              'min_samples_leaf': 5,\n",
    "              'random_state': 5,\n",
    "              'subsample': 0.8\n",
    "#               'n_jobs': -1\n",
    "              }\n",
    "\n",
    "clf = GradientBoostingRegressor(**parameters)\n",
    "\n",
    "# Fit a model by providing X and y from training set\n",
    "# clf.fit(X_train, y_train)\n",
    "\n",
    "# Train test model\n",
    "y_train_pred,y_test_pred = train_test_model(clf, X_train, y_train, X_test)\n",
    "train_rmse, test_rmse = calculate_error(y_train,y_train_pred,y_test,y_test_pred)\n",
    "print('Train error: ',train_rmse)\n",
    "print('Test error: ',test_rmse)"
   ]
  },
  {
   "cell_type": "code",
   "execution_count": 2,
   "metadata": {},
   "outputs": [
    {
     "ename": "ImportError",
     "evalue": "cannot import name 'DecisionTreeClassifier'",
     "output_type": "error",
     "traceback": [
      "\u001b[0;31m---------------------------------------------------------------------------\u001b[0m",
      "\u001b[0;31mImportError\u001b[0m                               Traceback (most recent call last)",
      "\u001b[0;32m<ipython-input-2-2e9bfc1ff61e>\u001b[0m in \u001b[0;36m<module>\u001b[0;34m()\u001b[0m\n\u001b[1;32m      1\u001b[0m \u001b[0;32mfrom\u001b[0m \u001b[0msklearn\u001b[0m\u001b[0;34m.\u001b[0m\u001b[0mensemble\u001b[0m \u001b[0;32mimport\u001b[0m \u001b[0mBaggingRegressor\u001b[0m\u001b[0;34m\u001b[0m\u001b[0m\n\u001b[0;32m----> 2\u001b[0;31m \u001b[0;32mfrom\u001b[0m \u001b[0msklearn\u001b[0m\u001b[0;34m.\u001b[0m\u001b[0mensemble\u001b[0m \u001b[0;32mimport\u001b[0m \u001b[0mDecisionTreeClassifier\u001b[0m\u001b[0;34m\u001b[0m\u001b[0m\n\u001b[0m\u001b[1;32m      3\u001b[0m \u001b[0;34m\u001b[0m\u001b[0m\n\u001b[1;32m      4\u001b[0m \u001b[0mbase_classifier\u001b[0m \u001b[0;34m=\u001b[0m \u001b[0mDecisionTreeClassifier\u001b[0m\u001b[0;34m(\u001b[0m\u001b[0mmax_depth\u001b[0m\u001b[0;34m=\u001b[0m\u001b[0;36m30\u001b[0m\u001b[0;34m,\u001b[0m\u001b[0mmin_samples_leaf\u001b[0m\u001b[0;34m=\u001b[0m\u001b[0;36m50\u001b[0m\u001b[0;34m)\u001b[0m\u001b[0;34m\u001b[0m\u001b[0m\n\u001b[1;32m      5\u001b[0m \u001b[0;31m# Choose some parameter combinations to try\u001b[0m\u001b[0;34m\u001b[0m\u001b[0;34m\u001b[0m\u001b[0m\n",
      "\u001b[0;31mImportError\u001b[0m: cannot import name 'DecisionTreeClassifier'"
     ]
    }
   ],
   "source": [
    "from sklearn.ensemble import BaggingRegressor\n",
    "from sklearn.ensemble import BaggingClassifier\n",
    "\n",
    "base_classifier = DecisionTree(max_depth=30,min_samples_leaf=50)\n",
    "# Choose some parameter combinations to try\n",
    "parameters = {\n",
    "              'base_estimator':base_classifier,\n",
    "              'n_estimators': 500,\n",
    "              'n_jobs': -1\n",
    "              }\n",
    "\n",
    "clf = BaggingRegressor(**parameters)\n",
    "\n",
    "# Train test model\n",
    "y_train_pred,y_test_pred = train_test_model(clf, X_train, y_train, X_test)\n",
    "train_rmse, test_rmse = calculate_error(y_train,y_train_pred,y_test,y_test_pred)\n",
    "print('Train error: ',train_rmse)\n",
    "print('Test error: ',test_rmse)"
   ]
  },
  {
   "cell_type": "code",
   "execution_count": 32,
   "metadata": {},
   "outputs": [],
   "source": [
    "from sklearn.ensemble import RandomForestRegressor\n",
    "\n",
    "# Choose some parameter combinations to try\n",
    "\n",
    "parameters = {'n_estimators': 500,\n",
    "              'max_features': 'sqrt',\n",
    "#               'criterion': 'gini',\n",
    "              'max_depth': 20,\n",
    "              'min_samples_split': 2,\n",
    "              'min_samples_leaf': 5,\n",
    "              'random_state': 0,\n",
    "              'n_jobs': -1\n",
    "              }\n",
    "\n",
    "clf = RandomForestRegressor(**parameters)\n",
    "\n",
    "# Fit a model by providing X and y from training set\n",
    "clf.fit(X_train, y_train)\n",
    "\n",
    "# Train test model\n",
    "y_train_pred,y_test_pred = train_test_model(clf, X_train, y_train, X_test)\n",
    "train_rmse, test_rmse = calculate_error(y_train,y_train_pred,y_test,y_test_pred)\n",
    "print('Train error: ',train_rmse)\n",
    "print('Test error: ',test_rmse)"
   ]
  },
  {
   "cell_type": "code",
   "execution_count": 74,
   "metadata": {},
   "outputs": [],
   "source": [
    "from sklearn.neural_network import MLPRegressor\n",
    "\n",
    "# Choose some parameter combinations to try\n",
    "parameters = {\n",
    "    'solver':'adam', \n",
    "    'activation':'relu',\n",
    "    'alpha':1e-3, #increase alpha->increase penalty :: http://scikit-learn.org/stable/auto_examples/neural_networks/plot_mlp_alpha.html#sphx-glr-auto-examples-neural-networks-plot-mlp-alpha-py\n",
    "    'hidden_layer_sizes':(200,200), \n",
    "    'learning_rate':'adaptive',\n",
    "    'random_state':1\n",
    "    }\n",
    "clf = MLPRegressor(**parameters)\n",
    "\n",
    "# Train test model\n",
    "y_train_pred,y_test_pred = train_test_model(clf, X_train, y_train, X_test)\n",
    "train_rmse, test_rmse = calculate_error(y_train,y_train_pred,y_test,y_test_pred)\n",
    "print('Train error: ',train_rmse)\n",
    "print('Test error: ',test_rmse)"
   ]
  },
  {
   "cell_type": "code",
   "execution_count": 8,
   "metadata": {},
   "outputs": [],
   "source": [
    "from sklearn.svm import SVR\n",
    "\n",
    "# Choose some parameter combinations to try\n",
    "parameters = {\n",
    "#     'probability':True, # get simulated probability\n",
    "#     'max_iter':2000,\n",
    "    'kernel':'rbf',\n",
    "    'C':100,\n",
    "    'cache_size':2000,\n",
    "    'gamma': 'auto',\n",
    "    'epsilon': 10\n",
    "    }\n",
    "clf = SVR(**parameters)    \n",
    "\n",
    "# Train test model\n",
    "y_train_pred,y_test_pred = train_test_model(clf, X_train, y_train, X_test)\n",
    "train_rmse, test_rmse = calculate_error(y_train,y_train_pred,y_test,y_test_pred)\n",
    "print('Train error: ',train_rmse)\n",
    "print('Test error: ',test_rmse)"
   ]
  },
  {
   "cell_type": "markdown",
   "metadata": {},
   "source": [
    "Could use grid search:"
   ]
  },
  {
   "cell_type": "code",
   "execution_count": 25,
   "metadata": {},
   "outputs": [],
   "source": [
    "from sklearn.ensemble import GradientBoostingRegressor\n",
    "from sklearn.metrics import make_scorer, roc_auc_score, accuracy_score, mean_squared_error\n",
    "from sklearn.model_selection import GridSearchCV\n",
    "from sklearn.svm import SVR\n",
    "\n",
    "# Choose the type of classifier. \n",
    "clf = SVR()\n",
    "\n",
    "# Choose some parameter combinations to try\n",
    "param_grid = {\n",
    "#     'probability':True, # get simulated probability\n",
    "#     'max_iter':[2000],\n",
    "    'kernel':['rbf'],\n",
    "    'C':[5,10],\n",
    "    'cache_size':[2000],\n",
    "    'gamma': ['auto'],\n",
    "    'epsilon':[1,5]\n",
    "    }\n",
    "\n",
    "# param_grid = {'n_estimators': [100,200], \n",
    "#               'max_features': ['auto'], \n",
    "#               'criterion': ['gini'],\n",
    "#               'max_depth': [15,20,25], \n",
    "#               'min_samples_split': [2],\n",
    "#               'min_samples_leaf': [2,10,20],\n",
    "#               'n_jobs':[-1]\n",
    "#              }\n",
    "\n",
    "# Type of scoring used to compare parameter combinations\n",
    "# acc_scorer = make_scorer(roc_auc_score)\n",
    "\n",
    "# Run the grid search\n",
    "# read theory\n",
    "grid_obj = GridSearchCV(clf, param_grid, cv=5, scoring='neg_mean_squared_error')\n",
    "grid_obj = grid_obj.fit(np.array(X_train), np.array(y_train))\n",
    "\n",
    "# Set the clf to the best combination of parameters\n",
    "clf = grid_obj.best_estimator_\n",
    "\n",
    "# Fit the best algorithm to the data. \n",
    "clf.fit(X_train, y_train)\n",
    "y_train_pred,y_test_pred = train_test_model(clf, X_train, y_train, X_test)\n",
    "clf"
   ]
  },
  {
   "cell_type": "markdown",
   "metadata": {},
   "source": [
    "Predict scoring data after model and parameters are fixed"
   ]
  },
  {
   "cell_type": "code",
   "execution_count": 10,
   "metadata": {},
   "outputs": [],
   "source": [
    "score_data = pd.read_csv('cleaned_score_data.csv')\n",
    "X_train = X\n",
    "y_train = y\n",
    "X_test = score_data"
   ]
  },
  {
   "cell_type": "code",
   "execution_count": 11,
   "metadata": {},
   "outputs": [],
   "source": [
    "from sklearn.ensemble import GradientBoostingRegressor\n",
    "\n",
    "# Choose some parameter combinations to try\n",
    "\n",
    "parameters = {'n_estimators': 2000,\n",
    "              'max_features': 'sqrt',\n",
    "#               'criterion': 'gini',\n",
    "              'learning_rate':0.008,\n",
    "              'max_depth': 10,\n",
    "              'min_samples_split': 10,\n",
    "              'min_samples_leaf': 5,\n",
    "              'random_state': 5,\n",
    "#               'n_jobs': -1\n",
    "              }\n",
    "\n",
    "clf = GradientBoostingRegressor(**parameters)\n",
    "\n",
    "# Fit a model by providing X and y from training set\n",
    "# clf.fit(X_train, y_train)\n",
    "\n",
    "# Train test model\n",
    "y_train_pred,y_test_pred = train_test_model(clf, X_train, y_train, X_test)"
   ]
  },
  {
   "cell_type": "code",
   "execution_count": 12,
   "metadata": {},
   "outputs": [
    {
     "name": "stdout",
     "output_type": "stream",
     "text": [
      "train rmse: 26.560766266962304\n"
     ]
    }
   ],
   "source": [
    "rss = 0\n",
    "y_train = np.array(y_train)\n",
    "for i in range(len(y_train)):\n",
    "    rss += (y_train[i] - y_train_pred[i])**2\n",
    "mse = rss/len(y_train)\n",
    "rmse = sqrt(mse)\n",
    "print('train rmse:',rmse)"
   ]
  },
  {
   "cell_type": "code",
   "execution_count": 13,
   "metadata": {},
   "outputs": [],
   "source": [
    "airbnb_id = pd.read_csv('scoringData.csv')['id']"
   ]
  },
  {
   "cell_type": "code",
   "execution_count": 14,
   "metadata": {},
   "outputs": [],
   "source": [
    "result = pd.concat([airbnb_id,pd.DataFrame(y_test_pred)],axis=1)"
   ]
  },
  {
   "cell_type": "code",
   "execution_count": 17,
   "metadata": {},
   "outputs": [
    {
     "name": "stdout",
     "output_type": "stream",
     "text": [
      "     id       price\n",
      "0  4989  171.349286\n",
      "1  5054  171.320007\n",
      "2  5136  272.831807\n",
      "3  6090  208.958193\n",
      "4  6990   75.387219\n"
     ]
    }
   ],
   "source": [
    "\n",
    "print(result.head())"
   ]
  },
  {
   "cell_type": "code",
   "execution_count": 45,
   "metadata": {},
   "outputs": [],
   "source": [
    "result.to_csv(\"result.csv\",index=False,sep=',')"
   ]
  },
  {
   "cell_type": "markdown",
   "metadata": {},
   "source": []
  }
 ],
 "metadata": {
  "kernelspec": {
   "display_name": "Python 3",
   "language": "python",
   "name": "python3"
  },
  "language_info": {
   "codemirror_mode": {
    "name": "ipython",
    "version": 3
   },
   "file_extension": ".py",
   "mimetype": "text/x-python",
   "name": "python",
   "nbconvert_exporter": "python",
   "pygments_lexer": "ipython3",
   "version": "3.6.5"
  }
 },
 "nbformat": 4,
 "nbformat_minor": 2
}
