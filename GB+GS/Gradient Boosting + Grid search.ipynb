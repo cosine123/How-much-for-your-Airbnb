{
 "cells": [
  {
   "cell_type": "code",
   "execution_count": 1,
   "metadata": {},
   "outputs": [],
   "source": [
    "import numpy as np\n",
    "import pandas as pd\n",
    "import matplotlib.pyplot as plt\n",
    "\n",
    "% matplotlib inline\n",
    "# Always make it pretty.\n",
    "plt.style.use('ggplot')"
   ]
  },
  {
   "cell_type": "code",
   "execution_count": 2,
   "metadata": {},
   "outputs": [],
   "source": [
    "df = pd.read_csv('cleaned_data.csv')"
   ]
  },
  {
   "cell_type": "code",
   "execution_count": 3,
   "metadata": {},
   "outputs": [],
   "source": [
    "X = df.drop('price',axis=1)\n",
    "y = df['price']"
   ]
  },
  {
   "cell_type": "code",
   "execution_count": 4,
   "metadata": {},
   "outputs": [],
   "source": [
    "from sklearn.model_selection import train_test_split\n",
    "X_train, X_test, y_train, y_test = train_test_split(X, y, test_size=0.2, random_state=0)"
   ]
  },
  {
   "cell_type": "code",
   "execution_count": 5,
   "metadata": {},
   "outputs": [],
   "source": [
    "from sklearn.metrics import precision_score, accuracy_score, recall_score, f1_score, roc_auc_score\n",
    "def get_performance_metrics(y_train, y_train_pred, y_test, y_test_pred, threshold=0.5):\n",
    "    metric_names = ['AUC','Accuracy','Precision','Recall','f1-score']\n",
    "    metric_values_train = [roc_auc_score(y_train, y_train_pred),\n",
    "                    accuracy_score(y_train, y_train_pred>threshold),\n",
    "                    precision_score(y_train, y_train_pred>threshold),\n",
    "                    recall_score(y_train, y_train_pred>threshold),\n",
    "                    f1_score(y_train, y_train_pred>threshold)\n",
    "                   ]\n",
    "    metric_values_test = [roc_auc_score(y_test, y_test_pred),\n",
    "                    accuracy_score(y_test, y_test_pred>threshold),\n",
    "                    precision_score(y_test, y_test_pred>threshold),\n",
    "                    recall_score(y_test, y_test_pred>threshold),\n",
    "                    f1_score(y_test, y_test_pred>threshold)\n",
    "                   ]\n",
    "    all_metrics = pd.DataFrame({'metrics':metric_names,\n",
    "                                'train':metric_values_train,\n",
    "                                'test':metric_values_test},columns=['metrics','train','test']).set_index('metrics')\n",
    "    print(all_metrics)"
   ]
  },
  {
   "cell_type": "code",
   "execution_count": 6,
   "metadata": {},
   "outputs": [],
   "source": [
    "%matplotlib inline\n",
    "import matplotlib.pyplot as plt\n",
    "from sklearn.metrics import roc_curve, auc\n",
    "\n",
    "def plot_roc_curve(y_train, y_train_pred, y_test, y_test_pred):\n",
    "    roc_auc_train = roc_auc_score(y_train, y_train_pred)\n",
    "    fpr_train, tpr_train, _ = roc_curve(y_train, y_train_pred)\n",
    "\n",
    "    roc_auc_test = roc_auc_score(y_test, y_test_pred)\n",
    "    fpr_test, tpr_test, _ = roc_curve(y_test, y_test_pred)\n",
    "    plt.figure()\n",
    "    lw = 2\n",
    "    plt.plot(fpr_train, tpr_train, color='green',\n",
    "             lw=lw, label='ROC Train (AUC = %0.4f)' % roc_auc_train)\n",
    "    plt.plot(fpr_test, tpr_test, color='darkorange',\n",
    "             lw=lw, label='ROC Test (AUC = %0.4f)' % roc_auc_test)\n",
    "    plt.plot([0, 1], [0, 1], color='navy', lw=lw, linestyle='--')\n",
    "    plt.xlim([0.0, 1.0])\n",
    "    plt.ylim([0.0, 1.05])\n",
    "    plt.xlabel('False Positive Rate')\n",
    "    plt.ylabel('True Positive Rate')\n",
    "    plt.title('Receiver operating characteristic example')\n",
    "    plt.legend(loc=\"lower right\")\n",
    "    plt.show()"
   ]
  },
  {
   "cell_type": "code",
   "execution_count": 7,
   "metadata": {},
   "outputs": [],
   "source": [
    "def train_test_model(clf, X_train, y_train, X_test):\n",
    "    # Fit a model by providing X and y from training set\n",
    "    clf.fit(X_train, y_train)\n",
    "\n",
    "    # Make prediction on the training data\n",
    "    y_train_pred = clf.predict(X_train)\n",
    "#     p_train_pred = clf.predict_proba(X_train)[:,1]\n",
    "\n",
    "    # Make predictions on test data\n",
    "    y_test_pred = clf.predict(X_test)\n",
    "#     p_test_pred = clf.predict_proba(X_test)[:,1]\n",
    "    return y_train_pred,y_test_pred\n",
    "#     sum((y_test_pred-y_test)^2)\n",
    "    # print model results\n",
    "#     get_performance_metrics(y_train, p_train_pred, y_test, p_test_pred)\n",
    "#     plot_roc_curve(y_train, p_train_pred, y_test, p_test_pred)"
   ]
  },
  {
   "cell_type": "code",
   "execution_count": 8,
   "metadata": {},
   "outputs": [],
   "source": [
    "from sklearn.ensemble import GradientBoostingRegressor\n",
    "\n",
    "# Choose some parameter combinations to try\n",
    "\n",
    "parameters = {'n_estimators': 300,\n",
    "              'max_features': 'auto',\n",
    "#               'criterion': 'gini',\n",
    "              'learning_rate':0.1,\n",
    "              'max_depth': 8,\n",
    "              'min_samples_split': 5,\n",
    "              'min_samples_leaf': 25,\n",
    "              'random_state': 0,\n",
    "#               'n_jobs': -1\n",
    "              }\n",
    "\n",
    "clf = GradientBoostingRegressor(**parameters)\n",
    "\n",
    "# Fit a model by providing X and y from training set\n",
    "# clf.fit(X_train, y_train)\n",
    "\n",
    "# Train test model\n",
    "y_train_pred,y_test_pred = train_test_model(clf, X_train, y_train, X_test)"
   ]
  },
  {
   "cell_type": "code",
   "execution_count": 15,
   "metadata": {},
   "outputs": [],
   "source": [
    "from sklearn.ensemble import GradientBoostingRegressor\n",
    "from sklearn.metrics import make_scorer, roc_auc_score, accuracy_score, mean_squared_error\n",
    "from sklearn.model_selection import GridSearchCV\n",
    "\n",
    "# Choose the type of classifier. \n",
    "clf = GradientBoostingRegressor()\n",
    "\n",
    "# Choose some parameter combinations to try\n",
    "param_grid = {'n_estimators': [200,300,500],\n",
    "              'max_features': ['auto'],\n",
    "#               'criterion': 'gini',\n",
    "              'learning_rate':[0.1],\n",
    "              'max_depth': [5,8,10,20],\n",
    "              'min_samples_split': [5,8,10,15],\n",
    "              'min_samples_leaf': [8,10,20,25,30],\n",
    "              'random_state': [0],\n",
    "#               'n_jobs': [-1]\n",
    "              }\n",
    "\n",
    "# param_grid = {'n_estimators': [100,200], \n",
    "#               'max_features': ['auto'], \n",
    "#               'criterion': ['gini'],\n",
    "#               'max_depth': [15,20,25], \n",
    "#               'min_samples_split': [2],\n",
    "#               'min_samples_leaf': [2,10,20],\n",
    "#               'n_jobs':[-1]\n",
    "#              }\n",
    "\n",
    "# Type of scoring used to compare parameter combinations\n",
    "acc_scorer = make_scorer(roc_auc_score)\n",
    "\n",
    "# Run the grid search\n",
    "# read theory\n",
    "grid_obj = GridSearchCV(clf, param_grid, cv=5, scoring='neg_mean_squared_error')\n",
    "grid_obj = grid_obj.fit(np.array(X_train), np.array(y_train))\n",
    "\n",
    "# Set the clf to the best combination of parameters\n",
    "clf = grid_obj.best_estimator_\n",
    "\n",
    "# Fit the best algorithm to the data. \n",
    "clf.fit(X_train, y_train)\n",
    "y_train_pred,y_test_pred = train_test_model(clf, X_train, y_train, X_test)"
   ]
  },
  {
   "cell_type": "code",
   "execution_count": 19,
   "metadata": {},
   "outputs": [
    {
     "data": {
      "text/plain": [
       "GradientBoostingRegressor(alpha=0.9, criterion='friedman_mse', init=None,\n",
       "             learning_rate=0.1, loss='ls', max_depth=5,\n",
       "             max_features='auto', max_leaf_nodes=None,\n",
       "             min_impurity_decrease=0.0, min_impurity_split=None,\n",
       "             min_samples_leaf=20, min_samples_split=5,\n",
       "             min_weight_fraction_leaf=0.0, n_estimators=500,\n",
       "             presort='auto', random_state=0, subsample=1.0, verbose=0,\n",
       "             warm_start=False)"
      ]
     },
     "execution_count": 19,
     "metadata": {},
     "output_type": "execute_result"
    }
   ],
   "source": [
    "clf"
   ]
  },
  {
   "cell_type": "code",
   "execution_count": 18,
   "metadata": {},
   "outputs": [
    {
     "name": "stdout",
     "output_type": "stream",
     "text": [
      "train rmse: 41.99237135796908\n",
      "test rmse: 54.79600781865588\n"
     ]
    }
   ],
   "source": [
    "from math import sqrt\n",
    "rss = 0\n",
    "y_train = np.array(y_train)\n",
    "for i in range(len(y_train)):\n",
    "    rss += (y_train[i] - y_train_pred[i])**2\n",
    "mse = rss/len(y_train)\n",
    "rmse = sqrt(mse)\n",
    "print('train rmse:',rmse)\n",
    "\n",
    "rss = 0\n",
    "y_test = np.array(y_test)\n",
    "for i in range(len(y_test)):\n",
    "    rss += (y_test[i] - y_test_pred[i])**2\n",
    "mse = rss/len(y_test)\n",
    "rmse = sqrt(mse)\n",
    "print('test rmse:',rmse)"
   ]
  },
  {
   "cell_type": "code",
   "execution_count": 20,
   "metadata": {},
   "outputs": [],
   "source": [
    "score_data = pd.read_csv('cleaned_score_data.csv')\n",
    "X_train = X\n",
    "y_train = y\n",
    "X_test = score_data"
   ]
  },
  {
   "cell_type": "code",
   "execution_count": 21,
   "metadata": {},
   "outputs": [],
   "source": [
    "from sklearn.ensemble import GradientBoostingRegressor\n",
    "\n",
    "# Choose some parameter combinations to try\n",
    "\n",
    "parameters = {'n_estimators': 500,\n",
    "              'max_features': 'auto',\n",
    "#               'criterion': 'gini',\n",
    "              'learning_rate':0.1,\n",
    "              'max_depth': 5,\n",
    "              'min_samples_split': 5,\n",
    "              'min_samples_leaf': 20,\n",
    "              'random_state': 0,\n",
    "#               'n_jobs': -1\n",
    "              }\n",
    "\n",
    "clf = GradientBoostingRegressor(**parameters)\n",
    "\n",
    "# Fit a model by providing X and y from training set\n",
    "# clf.fit(X_train, y_train)\n",
    "\n",
    "# Train test model\n",
    "y_train_pred,y_test_pred = train_test_model(clf, X_train, y_train, X_test)"
   ]
  },
  {
   "cell_type": "code",
   "execution_count": 22,
   "metadata": {},
   "outputs": [
    {
     "name": "stdout",
     "output_type": "stream",
     "text": [
      "train rmse: 42.70191168991458\n"
     ]
    }
   ],
   "source": [
    "rss = 0\n",
    "y_train = np.array(y_train)\n",
    "for i in range(len(y_train)):\n",
    "    rss += (y_train[i] - y_train_pred[i])**2\n",
    "mse = rss/len(y_train)\n",
    "rmse = sqrt(mse)\n",
    "print('train rmse:',rmse)"
   ]
  },
  {
   "cell_type": "code",
   "execution_count": 23,
   "metadata": {},
   "outputs": [],
   "source": [
    "airbnb_id = pd.read_csv('scoringData.csv')['id']"
   ]
  },
  {
   "cell_type": "code",
   "execution_count": 24,
   "metadata": {},
   "outputs": [],
   "source": [
    "result = pd.concat([airbnb_id,pd.DataFrame(y_test_pred)],axis=1)"
   ]
  },
  {
   "cell_type": "code",
   "execution_count": 25,
   "metadata": {},
   "outputs": [
    {
     "name": "stdout",
     "output_type": "stream",
     "text": [
      "     id           0\n",
      "0  4989  176.894153\n",
      "1  5054  169.230008\n",
      "2  5136  286.638572\n",
      "3  6090  194.212375\n",
      "4  6990   74.043194\n"
     ]
    }
   ],
   "source": [
    "print(result.head())"
   ]
  },
  {
   "cell_type": "code",
   "execution_count": 26,
   "metadata": {},
   "outputs": [],
   "source": [
    "result.to_csv(\"result——GBTGS.csv\",index=False,sep=',')"
   ]
  },
  {
   "cell_type": "code",
   "execution_count": null,
   "metadata": {},
   "outputs": [],
   "source": []
  }
 ],
 "metadata": {
  "kernelspec": {
   "display_name": "Python 3",
   "language": "python",
   "name": "python3"
  },
  "language_info": {
   "codemirror_mode": {
    "name": "ipython",
    "version": 3
   },
   "file_extension": ".py",
   "mimetype": "text/x-python",
   "name": "python",
   "nbconvert_exporter": "python",
   "pygments_lexer": "ipython3",
   "version": "3.6.5"
  }
 },
 "nbformat": 4,
 "nbformat_minor": 2
}
