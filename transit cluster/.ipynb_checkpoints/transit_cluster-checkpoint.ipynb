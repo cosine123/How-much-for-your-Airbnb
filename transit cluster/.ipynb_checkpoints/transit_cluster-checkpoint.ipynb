{
 "cells": [
  {
   "cell_type": "code",
   "execution_count": 1,
   "metadata": {},
   "outputs": [],
   "source": [
    "import matplotlib.pyplot as plt\n",
    "% matplotlib inline\n",
    "plt.style.use('ggplot')\n",
    "import numpy as np\n",
    "import pandas as pd\n",
    "import string"
   ]
  },
  {
   "cell_type": "code",
   "execution_count": 2,
   "metadata": {},
   "outputs": [],
   "source": [
    "data = pd.read_csv('analysisData.csv',low_memory=False)"
   ]
  },
  {
   "cell_type": "code",
   "execution_count": 3,
   "metadata": {},
   "outputs": [],
   "source": [
    "# data_fillna = data.copy()\n",
    "# data_fillna['transit'] = data['transit'].fillna('far')\n",
    "# data = data_fillna"
   ]
  },
  {
   "cell_type": "code",
   "execution_count": null,
   "metadata": {},
   "outputs": [],
   "source": []
  },
  {
   "cell_type": "code",
   "execution_count": 4,
   "metadata": {},
   "outputs": [],
   "source": [
    "data_nona = data[(data['transit'].notnull())]\n",
    "data = data_nona"
   ]
  },
  {
   "cell_type": "code",
   "execution_count": null,
   "metadata": {},
   "outputs": [],
   "source": []
  },
  {
   "cell_type": "code",
   "execution_count": 5,
   "metadata": {},
   "outputs": [],
   "source": [
    "from nltk.tokenize import word_tokenize\n",
    "from nltk.stem.porter import PorterStemmer\n",
    "porter = PorterStemmer()\n",
    "def stem(doc):\n",
    "    return [porter.stem(word) for word in word_tokenize(doc.lower())\n",
    "           if word not in set(string.punctuation)]"
   ]
  },
  {
   "cell_type": "code",
   "execution_count": null,
   "metadata": {},
   "outputs": [],
   "source": [
    "from sklearn.feature_extraction.text import TfidfVectorizer\n",
    "from sklearn.cluster import KMeans\n",
    "\n",
    "vectorizer = TfidfVectorizer(stop_words='english',tokenizer=stem,max_features=1000)\n",
    "X = vectorizer.fit_transform(data['transit'])\n",
    "features = vectorizer.get_feature_names()\n",
    "kmeans = KMeans(2)\n",
    "kmeans.fit(X)\n",
    "top_centroids = kmeans.cluster_centers_.argsort()[:,-1:-11:-1]\n",
    "print(\"top features for each cluster:\")\n",
    "for num, centroid in enumerate(top_centroids):\n",
    "    print(\"%d: %s\" % (num, \", \".join(features[i] for i in centroid)))"
   ]
  },
  {
   "cell_type": "code",
   "execution_count": 56,
   "metadata": {},
   "outputs": [
    {
     "data": {
      "text/plain": [
       "Counter({0: 12600, 2: 2114, 3: 5441, 1: 8987})"
      ]
     },
     "execution_count": 56,
     "metadata": {},
     "output_type": "execute_result"
    }
   ],
   "source": [
    "from collections import Counter\n",
    "Counter(kmeans.predict(X))"
   ]
  },
  {
   "cell_type": "code",
   "execution_count": 57,
   "metadata": {},
   "outputs": [
    {
     "name": "stdout",
     "output_type": "stream",
     "text": [
      "cluster 0:\n",
      "    The Christopher street 1 line is one block away, the West 4th street (ABCDEFVM) is 4 blocks away. The 7th avenue bus and crosstown bus are only a few blocks away.\n",
      "    close to trains, busses and cabs.\n",
      "    Our apartment is super close to two major subway lines and a major subway hub (Barclays Hub).\n",
      "cluster 1:\n",
      "    far\n",
      "    far\n",
      "    far\n",
      "cluster 2:\n",
      "    There is a G train two blocks down the house.... It only takes 20 min to go  to the city.\n",
      "    3 Train @ 145th St (4 min walk) 2-3 Train @ 135th St (6 min walk) ABCD Train @ 145th (11 min walk) Streetside parking is free but finding spots may be a bit of a hassle. I recommend using the subway system.\n",
      "    3 min walk to B24 bus stop. 12 min walk to Graham Ave L / 15 min stroll.  15 + min walk to Nassau G / 22 min stroll. It's also a very convenient place to find parking if you have a car - and very easy to get in and out of the city, located close to the BQE / right off Meeker Ave Exit.\n",
      "cluster 3:\n",
      "    Easy access to transportation: C train 5 blocks away, A express 8 blocks away, 20 minutes into Manhattan, 10 minutes to Prospect park/Brooklyn museum, busses and bike lanes on every corner.\n",
      "    We are within a 5 minute walk of L and J M Z trains that are 1 stop away from Manhattan. We are also 5 minutes away from the G train which travels through Brooklyn.\n",
      "    The F train at 9th Street is only 1 block away! This train will take you to the Lower East Side of Manhattan in 15 minutes or midtown in 25-30 minutes!\n"
     ]
    }
   ],
   "source": [
    "assigned_cluster = kmeans.transform(X).argmin(axis=1)\n",
    "for i in range(kmeans.n_clusters):\n",
    "    cluster = np.arange(0, X.shape[0])[assigned_cluster==i]\n",
    "    sample_articles = np.random.choice(cluster, 3, replace=False)\n",
    "    print(\"cluster %d:\" % i)\n",
    "    for article in sample_articles:\n",
    "        print(\"    %s\" % data.loc[article]['transit'])"
   ]
  },
  {
   "cell_type": "code",
   "execution_count": 37,
   "metadata": {},
   "outputs": [],
   "source": [
    "cluster_mapping = {\n",
    "    0: 'medium',\n",
    "    1: 'far',\n",
    "    2: 'close',\n",
    "}"
   ]
  },
  {
   "cell_type": "code",
   "execution_count": 51,
   "metadata": {},
   "outputs": [],
   "source": [
    "data['transit_category'] = kmeans.predict(X)\n",
    "data['transit_category'] = data['transit_category'].apply(lambda x: cluster_mapping.get(x))\n"
   ]
  },
  {
   "cell_type": "code",
   "execution_count": 52,
   "metadata": {},
   "outputs": [
    {
     "data": {
      "text/plain": [
       "0         close\n",
       "1        medium\n",
       "2        medium\n",
       "3           far\n",
       "4           far\n",
       "5           far\n",
       "6         close\n",
       "7           far\n",
       "8         close\n",
       "9         close\n",
       "10          far\n",
       "11       medium\n",
       "12       medium\n",
       "13        close\n",
       "14          far\n",
       "15       medium\n",
       "16        close\n",
       "17          far\n",
       "18          far\n",
       "19        close\n",
       "20          far\n",
       "21       medium\n",
       "22          far\n",
       "23        close\n",
       "24       medium\n",
       "25       medium\n",
       "26        close\n",
       "27          far\n",
       "28       medium\n",
       "29        close\n",
       "          ...  \n",
       "29112       far\n",
       "29113     close\n",
       "29114    medium\n",
       "29115       far\n",
       "29116     close\n",
       "29117     close\n",
       "29118     close\n",
       "29119     close\n",
       "29120     close\n",
       "29121    medium\n",
       "29122     close\n",
       "29123     close\n",
       "29124     close\n",
       "29125       far\n",
       "29126     close\n",
       "29127       far\n",
       "29128     close\n",
       "29129     close\n",
       "29130     close\n",
       "29131    medium\n",
       "29132     close\n",
       "29133    medium\n",
       "29134    medium\n",
       "29135    medium\n",
       "29136       far\n",
       "29137    medium\n",
       "29138     close\n",
       "29139       far\n",
       "29140    medium\n",
       "29141     close\n",
       "Name: transit, Length: 29142, dtype: object"
      ]
     },
     "execution_count": 52,
     "metadata": {},
     "output_type": "execute_result"
    }
   ],
   "source": [
    "data['transit']"
   ]
  },
  {
   "cell_type": "code",
   "execution_count": null,
   "metadata": {},
   "outputs": [],
   "source": []
  }
 ],
 "metadata": {
  "kernelspec": {
   "display_name": "Python 3",
   "language": "python",
   "name": "python3"
  },
  "language_info": {
   "codemirror_mode": {
    "name": "ipython",
    "version": 3
   },
   "file_extension": ".py",
   "mimetype": "text/x-python",
   "name": "python",
   "nbconvert_exporter": "python",
   "pygments_lexer": "ipython3",
   "version": "3.6.5"
  }
 },
 "nbformat": 4,
 "nbformat_minor": 2
}
